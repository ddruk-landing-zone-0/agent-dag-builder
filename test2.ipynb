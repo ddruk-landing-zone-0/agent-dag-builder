{
 "cells": [
  {
   "cell_type": "code",
   "execution_count": 11,
   "id": "a539808d",
   "metadata": {},
   "outputs": [],
   "source": [
    "from app.service.graph_session import GraphSessionManager"
   ]
  },
  {
   "cell_type": "code",
   "execution_count": 12,
   "id": "58a59675",
   "metadata": {},
   "outputs": [
    {
     "name": "stderr",
     "output_type": "stream",
     "text": [
      "\u001b[1;32m2025-05-15 21:24:32,893 - INFO ==> Using Python from virtual environment: ./runner_envs/venv/bin/python\u001b[0m\n",
      "\u001b[1;32m2025-05-15 21:24:32,894 - INFO ==> Graph loaded from ./saved_graphs/sample_session/graph.json. Location: Graph.load_graph\u001b[0m\n",
      "\u001b[1;32m2025-05-15 21:24:32,894 - INFO ==> Graph compiled with ID: c5f5966fe2058b06c5663ed2cc6dfed00bcad2af375a52e0e331613da2fb0271. Location: Graph.compile\u001b[0m\n",
      "\u001b[1;32m2025-05-15 21:24:32,895 - INFO ==> Graph saved to ./saved_graphs/sample_session/graph.json. Location: Graph.save_graph\u001b[0m\n",
      "\u001b[1;32m2025-05-15 21:24:32,895 - INFO ==> Graph compiled after loading from ./saved_graphs/sample_session/graph.json. Location: Graph.load_graph\u001b[0m\n"
     ]
    }
   ],
   "source": [
    "session_manager = GraphSessionManager(session_root_dir=\"./saved_graphs/\", timeout=10, venv_path=\"./runner_envs/venv\", create_env=False)"
   ]
  },
  {
   "cell_type": "code",
   "execution_count": 13,
   "id": "061a8403",
   "metadata": {},
   "outputs": [
    {
     "name": "stderr",
     "output_type": "stream",
     "text": [
      "\u001b[1;32m2025-05-15 21:24:33,691 - INFO ==> Session sample_session deleted.\u001b[0m\n",
      "\u001b[1;32m2025-05-15 21:24:33,694 - INFO ==> Session directory ./saved_graphs/sample_session deleted.\u001b[0m\n"
     ]
    },
    {
     "data": {
      "text/plain": [
       "True"
      ]
     },
     "execution_count": 13,
     "metadata": {},
     "output_type": "execute_result"
    }
   ],
   "source": [
    "session_manager.delete_session(\"sample_session\")"
   ]
  },
  {
   "cell_type": "code",
   "execution_count": 14,
   "id": "18595785",
   "metadata": {},
   "outputs": [
    {
     "name": "stderr",
     "output_type": "stream",
     "text": [
      "\u001b[1;32m2025-05-15 21:24:34,642 - INFO ==> Using Python from virtual environment: ./runner_envs/venv/bin/python\u001b[0m\n",
      "\u001b[1;32m2025-05-15 21:24:34,644 - INFO ==> Graph compiled with ID: e3b0c44298fc1c149afbf4c8996fb92427ae41e4649b934ca495991b7852b855. Location: Graph.compile\u001b[0m\n",
      "\u001b[1;32m2025-05-15 21:24:34,645 - INFO ==> Graph saved to ./saved_graphs/sample_session/graph.json. Location: Graph.save_graph\u001b[0m\n"
     ]
    },
    {
     "data": {
      "text/plain": [
       "<app.service.graphs.Graph at 0x1084fab80>"
      ]
     },
     "execution_count": 14,
     "metadata": {},
     "output_type": "execute_result"
    }
   ],
   "source": [
    "session_manager.create_session(session_id=\"sample_session\")"
   ]
  },
  {
   "cell_type": "code",
   "execution_count": null,
   "id": "03c82f33",
   "metadata": {},
   "outputs": [],
   "source": [
    "inputs = {\n",
    "    \"input1\": \"10\",\n",
    "    \"input2\": \"12\",\n",
    "    \"input3\": \"41\"\n",
    "}\n",
    "\n",
    "node1_params = {\n",
    "    \"nodeName\": \"node1\",\n",
    "    \"systemInstructions\": \"This is a test system instruction for Node1.\",\n",
    "    \"userPrompt\": \"Calculate the sum of @[inputs.input1] and @[inputs.input2] and @[inputs.input1]^2\",\n",
    "    \"pythonCode\": {\n",
    "        \"argument\": {\n",
    "            \"arg1\": \"@[inputs.input1]\",\n",
    "            \"arg2\": \"@[inputs.input2]\"\n",
    "        },\n",
    "        \"function_body\": \"def function(arg1, arg2):\\n    return {'output1': int(arg1) + int(arg2), 'output2': int(arg1)**2}\"\n",
    "    },\n",
    "    \"outputSchema\": {\n",
    "        \"output1\": \"This is the output1 of Node1 , sum of input1 and input2\",\n",
    "        \"output2\": \"This is the output2 of Node1 , square of input1\"\n",
    "    }\n",
    "}\n",
    "\n",
    "node2_params = {\n",
    "    \"nodeName\": \"node2\",\n",
    "    \"systemInstructions\": \"This is a test system instruction for Node2.\",\n",
    "    \"userPrompt\": \"Calculate the product of @[inputs.input1] and @[inputs.input2] and @[inputs.input3]\",\n",
    "    \"pythonCode\": {\n",
    "        \"argument\": {\n",
    "            \"arg1\": \"@[inputs.input1]\",\n",
    "            \"arg2\": \"@[inputs.input2]\",\n",
    "            \"arg3\": \"@[inputs.input3]\"\n",
    "        },\n",
    "        \"function_body\": \"import time; \\ndef function(arg1, arg2, arg3):\\n    time.sleep(5)\\n    return {'output1': int(arg1) * int(arg2) * int(arg3)}\"\n",
    "    },\n",
    "    \"outputSchema\": {\n",
    "        \"output1\": \"This is the output1 of Node2 , product of input1, input2 and input3\"\n",
    "    }\n",
    "}\n",
    "\n",
    "node3_params = {\n",
    "    \"nodeName\": \"node3\",\n",
    "    \"systemInstructions\": \"This is a test system instruction for Node3.\",\n",
    "    \"userPrompt\": \"Calculate the sum of @[node1.output1] and @[node2.output1] and @[inputs.input1]\",\n",
    "    \"pythonCode\": {\n",
    "        \"argument\": {\n",
    "            \"arg1\": \"@[node1.output1]\",\n",
    "            \"arg2\": \"@[node2.output1]\",\n",
    "            \"arg3\": \"@[inputs.input1]\"\n",
    "        },\n",
    "        \"function_body\": \"def function(arg1, arg2, arg3):\\n    return {'output1': int(arg1) + int(arg2) + int(arg3)}\"\n",
    "    },\n",
    "    \"outputSchema\": {\n",
    "        \"output1\": \"This is the output1 of Node3 , sum of node1.output1, node2.output1 and input1\"\n",
    "    }\n",
    "}"
   ]
  },
  {
   "cell_type": "code",
   "execution_count": 16,
   "id": "49951b97",
   "metadata": {},
   "outputs": [
    {
     "name": "stderr",
     "output_type": "stream",
     "text": [
      "\u001b[1;32m2025-05-15 21:24:39,822 - INFO ==> Graph compiled with ID: 69437e07646e7665bd8f52a097bdcf7c4781965b07b3265a85bff1c9c9710111. Location: Graph.compile\u001b[0m\n",
      "\u001b[1;32m2025-05-15 21:24:39,823 - INFO ==> Graph saved to ./saved_graphs/sample_session/graph.json. Location: Graph.save_graph\u001b[0m\n",
      "\u001b[1;32m2025-05-15 21:24:39,823 - INFO ==> Graph compiled with ID: 8e25bb67ffcfa783ff827cecfb066bba6cf7397f59780ac12767490aff02dda5. Location: Graph.compile\u001b[0m\n",
      "\u001b[1;32m2025-05-15 21:24:39,824 - INFO ==> Graph saved to ./saved_graphs/sample_session/graph.json. Location: Graph.save_graph\u001b[0m\n",
      "\u001b[1;32m2025-05-15 21:24:39,824 - INFO ==> Graph compiled with ID: 6a1f7bc5e021cfd0d6ab2e92bb919b73ba4987904c2fcbdc7f7d74b09f421799. Location: Graph.compile\u001b[0m\n",
      "\u001b[1;32m2025-05-15 21:24:39,826 - INFO ==> Graph saved to ./saved_graphs/sample_session/graph.json. Location: Graph.save_graph\u001b[0m\n",
      "\u001b[1;32m2025-05-15 21:24:39,826 - INFO ==> Graph compiled with ID: a1d6541848f928b652c1e25fc58aa639f8a3e7a136cd0ed633eea4a71adf8740. Location: Graph.compile\u001b[0m\n",
      "\u001b[1;32m2025-05-15 21:24:39,827 - INFO ==> Graph saved to ./saved_graphs/sample_session/graph.json. Location: Graph.save_graph\u001b[0m\n"
     ]
    },
    {
     "data": {
      "text/plain": [
       "<app.service.graphs.GraphNode at 0x1084548b0>"
      ]
     },
     "execution_count": 16,
     "metadata": {},
     "output_type": "execute_result"
    }
   ],
   "source": [
    "session_manager.add_input_to_session(\n",
    "    session_id=\"sample_session\",\n",
    "    inputFields=inputs\n",
    ")\n",
    "\n",
    "session_manager.add_node_to_session(\n",
    "    session_id=\"sample_session\",\n",
    "    nodeName=node1_params[\"nodeName\"],\n",
    "    systemInstructions=node1_params[\"systemInstructions\"],\n",
    "    userPrompt=node1_params[\"userPrompt\"],\n",
    "    pythonCode=node1_params[\"pythonCode\"],\n",
    "    outputSchema=node1_params[\"outputSchema\"]\n",
    ")\n",
    "\n",
    "session_manager.add_node_to_session(\n",
    "    session_id=\"sample_session\",\n",
    "    nodeName=node2_params[\"nodeName\"],\n",
    "    systemInstructions=node2_params[\"systemInstructions\"],\n",
    "    userPrompt=node2_params[\"userPrompt\"],\n",
    "    pythonCode=node2_params[\"pythonCode\"],\n",
    "    outputSchema=node2_params[\"outputSchema\"]\n",
    ")\n",
    "\n",
    "session_manager.add_node_to_session(\n",
    "    session_id=\"sample_session\",\n",
    "    nodeName=node3_params[\"nodeName\"],\n",
    "    systemInstructions=node3_params[\"systemInstructions\"],\n",
    "    userPrompt=node3_params[\"userPrompt\"],\n",
    "    pythonCode=node3_params[\"pythonCode\"],\n",
    "    outputSchema=node3_params[\"outputSchema\"]\n",
    ")"
   ]
  },
  {
   "cell_type": "code",
   "execution_count": 18,
   "id": "9c82324a",
   "metadata": {},
   "outputs": [
    {
     "name": "stderr",
     "output_type": "stream",
     "text": [
      "\u001b[1;32m2025-05-15 21:29:21,863 - INFO ==> Node node2 status set to pending.\u001b[0m\n",
      "\u001b[1;32m2025-05-15 21:29:21,864 - INFO ==> Node node1 status set to pending.\u001b[0m\n",
      "\u001b[1;32m2025-05-15 21:29:21,864 - INFO ==> Node node3 status set to pending.\u001b[0m\n",
      "\u001b[1;32m2025-05-15 21:29:21,864 - INFO ==> Running node: node2. Location: Graph._execute_node_with_condition\u001b[0m\n",
      "\u001b[1;32m2025-05-15 21:29:21,865 - INFO ==> Thread started for node: node2 . Location: Graph.execute_from_node\u001b[0m\n",
      "\u001b[1;32m2025-05-15 21:29:21,866 - INFO ==> Thread started for node: node1 . Location: Graph.execute_from_node\u001b[0m\n",
      "\u001b[1;33m2025-05-15 21:29:21,869 - WARNING ==> Parent node node1 of node3 is not completed. Location: GraphNode.check_parent_status\u001b[0m\n",
      "\u001b[1;32m2025-05-15 21:29:21,869 - INFO ==> Thread started for node: node3 . Location: Graph.execute_from_node\u001b[0m\n",
      "\u001b[1;36m2025-05-15 21:29:21,870 - DEBUG ==> Node node3 is waiting for parent nodes to complete. Location: Graph._execute_node_with_condition\u001b[0m\n",
      "\u001b[1;36m2025-05-15 21:29:26,903 - DEBUG ==> Subprocess output: {\"output1\": 4920}\u001b[0m\n",
      "\u001b[1;32m2025-05-15 21:29:26,904 - INFO ==> Completed node: node2 with result: {'output1': '4920'} . Location: Graph._execute_node_with_condition\u001b[0m\n",
      "\u001b[1;33m2025-05-15 21:29:26,905 - WARNING ==> Parent node node1 of node3 is not completed. Location: GraphNode.check_parent_status\u001b[0m\n",
      "\u001b[1;32m2025-05-15 21:29:26,906 - INFO ==> Running node: node1. Location: Graph._execute_node_with_condition\u001b[0m\n",
      "\u001b[1;36m2025-05-15 21:29:26,932 - DEBUG ==> Subprocess output: {\"output1\": 22, \"output2\": 100}\u001b[0m\n",
      "\u001b[1;32m2025-05-15 21:29:26,933 - INFO ==> Completed node: node1 with result: {'output1': '22', 'output2': '100'} . Location: Graph._execute_node_with_condition\u001b[0m\n",
      "\u001b[1;32m2025-05-15 21:29:26,933 - INFO ==> Running node: node3. Location: Graph._execute_node_with_condition\u001b[0m\n",
      "\u001b[1;36m2025-05-15 21:29:26,953 - DEBUG ==> Subprocess output: {\"output1\": 4952}\u001b[0m\n",
      "\u001b[1;32m2025-05-15 21:29:26,954 - INFO ==> Completed node: node3 with result: {'output1': '4952'} . Location: Graph._execute_node_with_condition\u001b[0m\n",
      "\u001b[1;32m2025-05-15 21:29:26,955 - INFO ==> Execution completed for all nodes. Location: Graph.execute_from_node\u001b[0m\n",
      "\u001b[1;32m2025-05-15 21:29:26,956 - INFO ==> Graph saved to ./saved_graphs/sample_session/graph.json. Location: Graph.save_graph\u001b[0m\n"
     ]
    },
    {
     "data": {
      "text/plain": [
       "<app.service.graphs.Graph at 0x1084fab80>"
      ]
     },
     "execution_count": 18,
     "metadata": {},
     "output_type": "execute_result"
    }
   ],
   "source": [
    "session_manager.execute_session(\n",
    "    session_id=\"sample_session\",\n",
    "    start_node=\"inputs\"\n",
    ")"
   ]
  },
  {
   "cell_type": "code",
   "execution_count": 26,
   "id": "dc00879e",
   "metadata": {},
   "outputs": [],
   "source": [
    "corrected_node2_params = {\n",
    "    \"nodeName\": \"node2\",\n",
    "    \"systemInstructions\": \"This is a test system instruction for Node2.\",\n",
    "    \"userPrompt\": \"Calculate the product of @[inputs.input1] and @[inputs.input2] and @[inputs.input3]\",\n",
    "    \"pythonCode\": {\n",
    "        \"argument\": {\n",
    "            \"arg1\": \"@[inputs.input1]\",\n",
    "            \"arg2\": \"@[inputs.input2]\",\n",
    "            \"arg3\": \"@[inputs.input3]\"\n",
    "        },\n",
    "        \"function_body\": \"import time; \\ndef function(arg1, arg2, arg3):\\n    time.sleep(5)\\n    return {'output1': int(arg1) * int(arg2) * int(arg3)}\"\n",
    "    },\n",
    "    \"outputSchema\": {\n",
    "        \"output1\": \"This is the output1 of Node2 , product of input1, input2 and input3\"\n",
    "    }\n",
    "}"
   ]
  },
  {
   "cell_type": "code",
   "execution_count": 27,
   "id": "237304cf",
   "metadata": {},
   "outputs": [
    {
     "name": "stderr",
     "output_type": "stream",
     "text": [
      "\u001b[1;32m2025-05-15 19:41:41,786 - INFO ==> Node node2 removed from the graph. Location: Graph.removeNode\u001b[0m\n",
      "\u001b[1;32m2025-05-15 19:41:41,786 - INFO ==> All nodes reset to uncompiled state. Location: Graph.reset_compiled_nodes\u001b[0m\n",
      "\u001b[1;32m2025-05-15 19:41:41,787 - INFO ==> Graph saved to ./saved_graphs/sample_session/graph.json. Location: Graph.save_graph\u001b[0m\n",
      "\u001b[1;32m2025-05-15 19:41:41,787 - INFO ==> Graph saved to ./saved_graphs/sample_session/graph.json. Location: Graph.save_graph\u001b[0m\n",
      "\u001b[1;32m2025-05-15 19:41:41,788 - INFO ==> Graph reset after removing node node2. Location: Graph.removeNode\u001b[0m\n",
      "\u001b[1;32m2025-05-15 19:41:41,788 - INFO ==> All nodes reset to uncompiled state. Location: Graph.reset_compiled_nodes\u001b[0m\n",
      "\u001b[1;32m2025-05-15 19:41:41,789 - INFO ==> Graph saved to ./saved_graphs/sample_session/graph.json. Location: Graph.save_graph\u001b[0m\n"
     ]
    },
    {
     "data": {
      "text/plain": [
       "True"
      ]
     },
     "execution_count": 27,
     "metadata": {},
     "output_type": "execute_result"
    }
   ],
   "source": [
    "session_manager.update_node_in_session(\n",
    "    session_id=\"sample_session\",\n",
    "    nodeName=corrected_node2_params[\"nodeName\"],\n",
    "    systemInstructions=corrected_node2_params[\"systemInstructions\"],\n",
    "    userPrompt=corrected_node2_params[\"userPrompt\"],\n",
    "    pythonCode=corrected_node2_params[\"pythonCode\"],\n",
    "    outputSchema=corrected_node2_params[\"outputSchema\"]\n",
    ")"
   ]
  },
  {
   "cell_type": "code",
   "execution_count": 10,
   "id": "8eb25c8e",
   "metadata": {},
   "outputs": [
    {
     "name": "stderr",
     "output_type": "stream",
     "text": [
      "\u001b[1;31m2025-05-15 18:37:09,812 - ERROR ==> Node node1 is not compiled. Location: Graph.execute_from_node\u001b[0m\n"
     ]
    },
    {
     "ename": "ValueError",
     "evalue": "Node node1 is not compiled.",
     "output_type": "error",
     "traceback": [
      "\u001b[0;31m---------------------------------------------------------------------------\u001b[0m",
      "\u001b[0;31mValueError\u001b[0m                                Traceback (most recent call last)",
      "Cell \u001b[0;32mIn[10], line 1\u001b[0m\n\u001b[0;32m----> 1\u001b[0m \u001b[43msession_manager\u001b[49m\u001b[38;5;241;43m.\u001b[39;49m\u001b[43mexecute_session\u001b[49m\u001b[43m(\u001b[49m\n\u001b[1;32m      2\u001b[0m \u001b[43m    \u001b[49m\u001b[43msession_id\u001b[49m\u001b[38;5;241;43m=\u001b[39;49m\u001b[38;5;124;43m\"\u001b[39;49m\u001b[38;5;124;43msample_session\u001b[39;49m\u001b[38;5;124;43m\"\u001b[39;49m\u001b[43m,\u001b[49m\n\u001b[1;32m      3\u001b[0m \u001b[43m    \u001b[49m\u001b[43mstart_node\u001b[49m\u001b[38;5;241;43m=\u001b[39;49m\u001b[38;5;124;43m\"\u001b[39;49m\u001b[38;5;124;43mnode1\u001b[39;49m\u001b[38;5;124;43m\"\u001b[39;49m\n\u001b[1;32m      4\u001b[0m \u001b[43m)\u001b[49m\n",
      "File \u001b[0;32m~/Desktop/programming/ddruk-lz-0/agent-dag-builder/app/service/graph_session.py:106\u001b[0m, in \u001b[0;36mGraphSessionManager.execute_session\u001b[0;34m(self, session_id, start_node)\u001b[0m\n\u001b[1;32m    103\u001b[0m     \u001b[38;5;28;01mraise\u001b[39;00m \u001b[38;5;167;01mValueError\u001b[39;00m(\u001b[38;5;124mf\u001b[39m\u001b[38;5;124m\"\u001b[39m\u001b[38;5;124mSession with ID \u001b[39m\u001b[38;5;132;01m{\u001b[39;00msession_id\u001b[38;5;132;01m}\u001b[39;00m\u001b[38;5;124m does not exist.\u001b[39m\u001b[38;5;124m\"\u001b[39m)\n\u001b[1;32m    105\u001b[0m graph \u001b[38;5;241m=\u001b[39m \u001b[38;5;28mself\u001b[39m\u001b[38;5;241m.\u001b[39msession_metadata[session_id][\u001b[38;5;124m'\u001b[39m\u001b[38;5;124mgraph\u001b[39m\u001b[38;5;124m'\u001b[39m]\n\u001b[0;32m--> 106\u001b[0m \u001b[43mgraph\u001b[49m\u001b[38;5;241;43m.\u001b[39;49m\u001b[43mexecute_from_node\u001b[49m\u001b[43m(\u001b[49m\u001b[43mstart_node\u001b[49m\u001b[43m)\u001b[49m\n\u001b[1;32m    107\u001b[0m \u001b[38;5;28;01mreturn\u001b[39;00m graph\n",
      "File \u001b[0;32m~/Desktop/programming/ddruk-lz-0/agent-dag-builder/app/service/graphs.py:445\u001b[0m, in \u001b[0;36mGraph.execute_from_node\u001b[0;34m(self, start_node)\u001b[0m\n\u001b[1;32m    443\u001b[0m     \u001b[38;5;28;01mif\u001b[39;00m \u001b[38;5;129;01mnot\u001b[39;00m node\u001b[38;5;241m.\u001b[39m_compiled:\n\u001b[1;32m    444\u001b[0m         LOGGER\u001b[38;5;241m.\u001b[39merror(\u001b[38;5;124mf\u001b[39m\u001b[38;5;124m\"\u001b[39m\u001b[38;5;124mNode \u001b[39m\u001b[38;5;132;01m{\u001b[39;00mnode_name\u001b[38;5;132;01m}\u001b[39;00m\u001b[38;5;124m is not compiled. Location: Graph.execute_from_node\u001b[39m\u001b[38;5;124m\"\u001b[39m)\n\u001b[0;32m--> 445\u001b[0m         \u001b[38;5;28;01mraise\u001b[39;00m \u001b[38;5;167;01mValueError\u001b[39;00m(\u001b[38;5;124mf\u001b[39m\u001b[38;5;124m\"\u001b[39m\u001b[38;5;124mNode \u001b[39m\u001b[38;5;132;01m{\u001b[39;00mnode_name\u001b[38;5;132;01m}\u001b[39;00m\u001b[38;5;124m is not compiled.\u001b[39m\u001b[38;5;124m\"\u001b[39m)\n\u001b[1;32m    447\u001b[0m \u001b[38;5;66;03m# Check if all nodes are completed\u001b[39;00m\n\u001b[1;32m    448\u001b[0m \u001b[38;5;28;01mfor\u001b[39;00m node_name \u001b[38;5;129;01min\u001b[39;00m visited:\n",
      "\u001b[0;31mValueError\u001b[0m: Node node1 is not compiled."
     ]
    }
   ],
   "source": [
    "session_manager.execute_session(\n",
    "    session_id=\"sample_session\",\n",
    "    start_node=\"node1\"\n",
    ")"
   ]
  },
  {
   "cell_type": "code",
   "execution_count": 12,
   "id": "3a0303cb",
   "metadata": {},
   "outputs": [
    {
     "name": "stderr",
     "output_type": "stream",
     "text": [
      "\u001b[1;32m2025-05-15 18:37:20,748 - INFO ==> Graph compiled with ID: 959dbaf7a79cae48344fe74adcbd4b9e4c4e21e5ef4074d2b8b05c3937d7431d. Location: Graph.compile\u001b[0m\n",
      "\u001b[1;32m2025-05-15 18:37:20,749 - INFO ==> Graph saved to ./saved_graphs/sample_session/graph.json. Location: Graph.save_graph\u001b[0m\n"
     ]
    },
    {
     "data": {
      "text/plain": [
       "<app.service.graphs.Graph at 0x109321c70>"
      ]
     },
     "execution_count": 12,
     "metadata": {},
     "output_type": "execute_result"
    }
   ],
   "source": [
    "session_manager.compile_session(\n",
    "    session_id=\"sample_session\",\n",
    ")\n"
   ]
  },
  {
   "cell_type": "code",
   "execution_count": 13,
   "id": "2f1f77a3",
   "metadata": {},
   "outputs": [
    {
     "name": "stderr",
     "output_type": "stream",
     "text": [
      "\u001b[1;32m2025-05-15 18:37:21,748 - INFO ==> Node node3 status set to pending.\u001b[0m\n",
      "\u001b[1;32m2025-05-15 18:37:21,749 - INFO ==> Node node1 status set to pending.\u001b[0m\n",
      "\u001b[1;33m2025-05-15 18:37:21,749 - WARNING ==> Parent node node1 of node3 is not completed. Location: GraphNode.check_parent_status\u001b[0m\n",
      "Exception in thread Thread-6:\n",
      "Traceback (most recent call last):\n",
      "  File \"/Library/Developer/CommandLineTools/Library/Frameworks/Python3.framework/Versions/3.9/lib/python3.9/threading.py\", line 973, in _bootstrap_inner\n",
      "\u001b[1;32m2025-05-15 18:37:21,750 - INFO ==> Thread started for node: node3 . Location: Graph.execute_from_node\u001b[0m\n",
      "    self.run()\n",
      "  File \"/Users/debasmitroy/Desktop/programming/ddruk-lz-0/agent-dag-builder/.venv/lib/python3.9/site-packages/ipykernel/ipkernel.py\", line 766, in run_closure\n",
      "    _threading_Thread_run(self)\n",
      "  File \"/Library/Developer/CommandLineTools/Library/Frameworks/Python3.framework/Versions/3.9/lib/python3.9/threading.py\", line 910, in run\n",
      "\u001b[1;32m2025-05-15 18:37:21,751 - INFO ==> Running node: node1. Location: Graph._execute_node_with_condition\u001b[0m\n",
      "    self._target(*self._args, **self._kwargs)\n",
      "  File \"/Users/debasmitroy/Desktop/programming/ddruk-lz-0/agent-dag-builder/app/service/graphs.py\", line 399, in _execute_node_with_condition\n",
      "\u001b[1;32m2025-05-15 18:37:21,751 - INFO ==> Thread started for node: node1 . Location: Graph.execute_from_node\u001b[0m\n",
      "    while not node.check_parent_status(self.nodePool):\n",
      "  File \"/Users/debasmitroy/Desktop/programming/ddruk-lz-0/agent-dag-builder/app/service/graphs.py\", line 161, in check_parent_status\n",
      "    raise ValueError(f\"Parent node {node_name} of {self.nodeName} is not completed.\")\n",
      "ValueError: Parent node node1 of node3 is not completed.\n",
      "\u001b[1;36m2025-05-15 18:37:21,775 - DEBUG ==> Subprocess output: {\"output1\": 22, \"output2\": 100}\u001b[0m\n",
      "\u001b[1;32m2025-05-15 18:37:21,776 - INFO ==> Completed node: node1 with result: {'output1': '22', 'output2': '100'} . Location: Graph._execute_node_with_condition\u001b[0m\n",
      "\u001b[1;33m2025-05-15 18:37:21,776 - WARNING ==> Parent node node2 of node3 is not completed. Location: GraphNode.check_parent_status\u001b[0m\n",
      "Exception in thread Thread-7:\n",
      "Traceback (most recent call last):\n",
      "  File \"/Library/Developer/CommandLineTools/Library/Frameworks/Python3.framework/Versions/3.9/lib/python3.9/threading.py\", line 973, in _bootstrap_inner\n",
      "    self.run()\n",
      "  File \"/Users/debasmitroy/Desktop/programming/ddruk-lz-0/agent-dag-builder/.venv/lib/python3.9/site-packages/ipykernel/ipkernel.py\", line 766, in run_closure\n",
      "    _threading_Thread_run(self)\n",
      "  File \"/Library/Developer/CommandLineTools/Library/Frameworks/Python3.framework/Versions/3.9/lib/python3.9/threading.py\", line 910, in run\n",
      "    self._target(*self._args, **self._kwargs)\n",
      "  File \"/Users/debasmitroy/Desktop/programming/ddruk-lz-0/agent-dag-builder/app/service/graphs.py\", line 414, in _execute_node_with_condition\n",
      "    if self.nodePool[child].check_parent_status(self.nodePool):\n",
      "  File \"/Users/debasmitroy/Desktop/programming/ddruk-lz-0/agent-dag-builder/app/service/graphs.py\", line 161, in check_parent_status\n",
      "    raise ValueError(f\"Parent node {node_name} of {self.nodeName} is not completed.\")\n",
      "ValueError: Parent node node2 of node3 is not completed.\n",
      "\u001b[1;32m2025-05-15 18:37:21,778 - INFO ==> Execution completed for all nodes. Location: Graph.execute_from_node\u001b[0m\n",
      "\u001b[1;32m2025-05-15 18:37:21,779 - INFO ==> Graph saved to ./saved_graphs/sample_session/graph.json. Location: Graph.save_graph\u001b[0m\n"
     ]
    },
    {
     "data": {
      "text/plain": [
       "<app.service.graphs.Graph at 0x109321c70>"
      ]
     },
     "execution_count": 13,
     "metadata": {},
     "output_type": "execute_result"
    }
   ],
   "source": [
    "session_manager.execute_session(\n",
    "    session_id=\"sample_session\",\n",
    "    start_node=\"node1\"\n",
    ")"
   ]
  },
  {
   "cell_type": "code",
   "execution_count": null,
   "id": "8bfb4897",
   "metadata": {},
   "outputs": [],
   "source": [
    "session_manager.session_metadata[\"sample_session\"][\"graph\"].nodePool[\"inputs\"]._compiled"
   ]
  },
  {
   "cell_type": "code",
   "execution_count": null,
   "id": "67ce8f60",
   "metadata": {},
   "outputs": [],
   "source": []
  },
  {
   "cell_type": "code",
   "execution_count": null,
   "id": "df6be9c1",
   "metadata": {},
   "outputs": [],
   "source": []
  },
  {
   "cell_type": "markdown",
   "id": "e779cd61",
   "metadata": {},
   "source": [
    "## Gemini Testing"
   ]
  },
  {
   "cell_type": "code",
   "execution_count": 2,
   "id": "f4915afe",
   "metadata": {},
   "outputs": [],
   "source": [
    "from app.llms.gemini import GeminiJsonEngine, GeminiSimpleChatEngine\n",
    "from pydantic import BaseModel, Field\n",
    "import os"
   ]
  },
  {
   "cell_type": "code",
   "execution_count": 3,
   "id": "b87a3856",
   "metadata": {},
   "outputs": [],
   "source": [
    "os.environ[\"GOOGLE_APPLICATION_CREDENTIALS\"] = \"key.json\"\n",
    "os.environ[\"GOOGLE_CLOUD_PROJECT\"] = \"openserve-0\"\n",
    "os.environ[\"GOOGLE_CLOUD_LOCATION\"] = \"us-central1\" "
   ]
  },
  {
   "cell_type": "code",
   "execution_count": null,
   "id": "2c08fcb3",
   "metadata": {},
   "outputs": [],
   "source": [
    "# class Sentiement(BaseModel):\n",
    "#     \"\"\"\n",
    "#     This tool is designed to analyze the sentiment of a given text.\n",
    "#     \"\"\"\n",
    "#     anger: str = Field(description=\"The anger sentiment score of the text. High / Low\")\n",
    "#     joy: str = Field(description=\"The joy sentiment score of the text. High / Low\")\n",
    "#     sadness: str = Field(description=\"The sadness sentiment score of the text. High / Low\")\\\n",
    "\n",
    "tool_dict = {\n",
    "    \"tool_name\": \"Sentiment\",\n",
    "    \"description\": \"This tool is designed to analyze the sentiment of a given text.\",\n",
    "    \"output_schema\": {\n",
    "        \"anger\": \"The anger sentiment score of the text. High / Low\",\n",
    "        \"joy\": \"The joy sentiment score of the text. High / Low\",\n",
    "        \"sadness\": \"The sadness sentiment score of the text. High / Low\"\n",
    "    }\n",
    "}"
   ]
  },
  {
   "cell_type": "code",
   "execution_count": 5,
   "id": "e62235cf",
   "metadata": {},
   "outputs": [
    {
     "name": "stderr",
     "output_type": "stream",
     "text": [
      "\u001b[1;36m2025-05-17 18:51:46,807 - DEBUG ==> Initialized GeminiModel with model gemini-2.0-flash-001 , project openserve-0, location us-central1\u001b[0m\n"
     ]
    }
   ],
   "source": [
    "sentiment_summary_engnine = GeminiJsonEngine(\n",
    "                                    model_name=\"gemini-2.0-flash-001\",\n",
    "                                    basemodel=tool_dict,\n",
    "                                    temperature=0.5,\n",
    "                                    max_output_tokens=256,\n",
    "                                    systemInstructions=\"\"\"\n",
    "                                    You are a sentiment analysis engine. You must use `Sentiemnt` tool to analyze the sentiment of the text.\n",
    "                                    \"\"\",\n",
    "                                    max_retries=5,\n",
    "                                    wait_time=30,\n",
    "                                    deployed_gcp=False\n",
    "                                    )"
   ]
  },
  {
   "cell_type": "code",
   "execution_count": null,
   "id": "311fb9ac",
   "metadata": {},
   "outputs": [],
   "source": [
    "ans = sentiment_summary_engnine.run([\n",
    "    \"\"\"This is the user's speech.\n",
    "    User: I am very happy today.\n",
    "    Your task is to analyze the sentiment of the user's speech and provide a summary of the sentiment. You should use `Sentiement` tool to analyze the sentiment. The summary should include the following information: anger, joy, and sadness. The summary should be in JSON format. The sentiment analysis should be based on the user's speech. You should not include any other information in the summary. The summary should be in JSON format.\n",
    "    \"\"\"\n",
    "]\n",
    ")"
   ]
  },
  {
   "cell_type": "code",
   "execution_count": 11,
   "id": "577f7871",
   "metadata": {},
   "outputs": [
    {
     "name": "stdout",
     "output_type": "stream",
     "text": [
      "[{'sadness': 'Low', 'joy': 'High', 'anger': 'Low'}]\n"
     ]
    }
   ],
   "source": [
    "print(ans)"
   ]
  },
  {
   "cell_type": "code",
   "execution_count": 8,
   "id": "8cbce708",
   "metadata": {},
   "outputs": [
    {
     "name": "stderr",
     "output_type": "stream",
     "text": [
      "\u001b[1;36m2025-05-17 18:52:05,232 - DEBUG ==> Initialized GeminiModel with model gemini-2.0-flash-001 , project openserve-0, location us-central1\u001b[0m\n"
     ]
    }
   ],
   "source": [
    "sentiment_simple_summary_engnine = GeminiSimpleChatEngine(\n",
    "                                    model_name=\"gemini-2.0-flash-001\",\n",
    "                                    temperature=0.5,\n",
    "                                    max_output_tokens=256,\n",
    "                                    systemInstructions=\"\"\"\n",
    "                                    You are a sentiment analysis engine..\n",
    "                                    \"\"\",\n",
    "                                    max_retries=5,\n",
    "                                    wait_time=30,\n",
    "                                    deployed_gcp=False\n",
    "                                    )"
   ]
  },
  {
   "cell_type": "code",
   "execution_count": 47,
   "id": "70f370e0",
   "metadata": {},
   "outputs": [],
   "source": [
    "a = sentiment_simple_summary_engnine.run([\n",
    "    \"This is the user's speech\",\n",
    "    \"User: I am very happy today\",\n",
    "    \"Your task is to analyze the sentiment of the user's speech and provide a summary of the sentiment. \",\n",
    "])"
   ]
  },
  {
   "cell_type": "code",
   "execution_count": 48,
   "id": "c5807677",
   "metadata": {},
   "outputs": [
    {
     "data": {
      "text/plain": [
       "\"The sentiment of the user's speech is **very positive**.\\n\""
      ]
     },
     "execution_count": 48,
     "metadata": {},
     "output_type": "execute_result"
    }
   ],
   "source": [
    "a"
   ]
  },
  {
   "cell_type": "code",
   "execution_count": null,
   "id": "bf80de91",
   "metadata": {},
   "outputs": [],
   "source": [
    "{\n",
    "    \"session_id\": \"sample_session\",\n",
    "    \"node_name\": \"CountryCapital1\",\n",
    "    \"system_instructions\": \"You are an AI assistant. Your task is to assist the user in their tasks.\",\n",
    "    \"user_prompt\": \"Tell me a conutry name and its capital city in @[inputs.cont1]\",\n",
    "    \"python_code\": {\n",
    "        \"argument\": {},\n",
    "        \"function_body\": \"\"\n",
    "    },\n",
    "    \"output_schema\": {\n",
    "        \"country_capital\": \"A country and its capital city from a particular continent.\"\n",
    "    },\n",
    "    \"use_LLM\": True,\n",
    "    \"json_mode\": False,\n",
    "    \"tool_name\": \"\",\n",
    "    \"tool_description\": \"\"\n",
    "}\n"
   ]
  },
  {
   "cell_type": "code",
   "execution_count": null,
   "id": "84fbefd8",
   "metadata": {},
   "outputs": [],
   "source": [
    "{\n",
    "    \"session_id\": \"sample_session\",\n",
    "    \"node_name\": \"CountryCapital2\",\n",
    "    \"system_instructions\": \"You are an AI assistant. Your task is to assist the user in their tasks.\",\n",
    "    \"user_prompt\": \"Tell me a conutry name and its capital city in @[inputs.cont2]\",\n",
    "    \"python_code\": {\n",
    "        \"argument\": {},\n",
    "        \"function_body\": \"\"\n",
    "    },\n",
    "    \"output_schema\": {\n",
    "        \"country_capital\":  \"A country and its capital city from a particular continent.\"\n",
    "    },\n",
    "    \"use_LLM\": True,\n",
    "    \"json_mode\": False,\n",
    "    \"tool_name\": \"\",\n",
    "    \"tool_description\": \"\"\n",
    "}\n"
   ]
  },
  {
   "cell_type": "code",
   "execution_count": null,
   "id": "f403e5fa",
   "metadata": {},
   "outputs": [],
   "source": [
    "{\n",
    "    \"session_id\": \"sample_session\",\n",
    "    \"node_name\": \"PlaceRelationship\",\n",
    "    \"system_instructions\": \"You are an AI assistant. Your task is to assist the user in their tasks.\",\n",
    "    \"user_prompt\": \"Tell me the relationship between @[CountryCapital1.country_capital] and @[CountryCapital2.country_capital]\",\n",
    "    \"python_code\": {\n",
    "        \"argument\": {},\n",
    "        \"function_body\": \"\"\n",
    "    },\n",
    "    \"output_schema\": {\n",
    "        \"relationship\": \"Relationship between two countries\"\n",
    "    },\n",
    "    \"use_LLM\": True,\n",
    "    \"json_mode\": False,\n",
    "    \"tool_name\": \"\",\n",
    "    \"tool_description\": \"\"\n",
    "}"
   ]
  },
  {
   "cell_type": "code",
   "execution_count": 12,
   "id": "81cb029e",
   "metadata": {},
   "outputs": [
    {
     "ename": "SyntaxError",
     "evalue": "EOL while scanning string literal (2819178502.py, line 3)",
     "output_type": "error",
     "traceback": [
      "\u001b[0;36m  Cell \u001b[0;32mIn[12], line 3\u001b[0;36m\u001b[0m\n\u001b[0;31m    \"node_name\": \"DepographyCalc1\u001b[0m\n\u001b[0m                                 ^\u001b[0m\n\u001b[0;31mSyntaxError\u001b[0m\u001b[0;31m:\u001b[0m EOL while scanning string literal\n"
     ]
    }
   ],
   "source": [
    "{\n",
    "    \"session_id\": \"sample_session\",\n",
    "    \"node_name\": \"DemographyCalc1\",\n",
    "    \"system_instructions\": \"You are an AI assistant. Your task is to assist the user to estimate the demography of a country. You must use `DemographyCalc` tool to estimate the demographic details of a country.\",\n",
    "    \"user_prompt\": \"Here is the details of a continent, country and its capital city ```@[CountryCapital1.country_capital]``` . Tell me the GDP, population, area and density of the country. You must use `DemographyCalc` tool to estimate the demographic details of a country.\",\n",
    "    \"python_code\": {},\n",
    "    \"output_schema\": {\n",
    "        \"gdp\": \"GDP of the country\",\n",
    "        \"population\": \"Population of the country\",\n",
    "        \"area\": \"Area of the country\",\n",
    "        \"density\": \"Density of the country\"\n",
    "    },\n",
    "    \"use_LLM\": True,\n",
    "    \"json_mode\": True,\n",
    "    \"tool_name\": \"DemographyCalc\",\n",
    "    \"tool_description\": \"This tool is designed to estimate the demographic details of a country. You must use this tool to estimate the demographic details of a country.\"\n",
    "}"
   ]
  },
  {
   "cell_type": "code",
   "execution_count": null,
   "id": "3bd41f82",
   "metadata": {},
   "outputs": [],
   "source": []
  }
 ],
 "metadata": {
  "kernelspec": {
   "display_name": ".venv",
   "language": "python",
   "name": "python3"
  },
  "language_info": {
   "codemirror_mode": {
    "name": "ipython",
    "version": 3
   },
   "file_extension": ".py",
   "mimetype": "text/x-python",
   "name": "python",
   "nbconvert_exporter": "python",
   "pygments_lexer": "ipython3",
   "version": "3.9.6"
  }
 },
 "nbformat": 4,
 "nbformat_minor": 5
}
